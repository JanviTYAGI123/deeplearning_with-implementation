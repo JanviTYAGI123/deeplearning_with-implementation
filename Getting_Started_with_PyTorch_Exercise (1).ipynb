{
  "nbformat": 4,
  "nbformat_minor": 0,
  "metadata": {
    "colab": {
      "provenance": [],
      "gpuType": "T4"
    },
    "kernelspec": {
      "name": "python3",
      "display_name": "Python 3"
    },
    "language_info": {
      "name": "python"
    },
    "accelerator": "GPU"
  },
  "cells": [
    {
      "cell_type": "markdown",
      "source": [
        "# Problem Statement: **Welcome to AI Town!**\n",
        "\n",
        "### You’ve been hired as an AI engineer in **AI Town**, a futuristic city powered by artificial intelligence. Your job is to use PyTorch to solve foundational challenges that AI Town faces. Each task requires you to demonstrate your expertise with PyTorch basics."
      ],
      "metadata": {
        "id": "q7UkbxIuOsEb"
      }
    },
    {
      "cell_type": "markdown",
      "source": [
        "\n",
        "\n",
        "---\n",
        "\n"
      ],
      "metadata": {
        "id": "gwD-rhXXnhIz"
      }
    },
    {
      "cell_type": "markdown",
      "source": [
        "Imports and CUDA"
      ],
      "metadata": {
        "id": "6JwL8-81yLWK"
      }
    },
    {
      "cell_type": "code",
      "source": [
        "import torch\n",
        "\n",
        "# Check if CUDA (GPU) is available\n",
        "device = torch.device('cuda' if torch.cuda.is_available() else 'cpu')\n",
        "print(f\"Using device: {device}\")\n"
      ],
      "metadata": {
        "id": "yR0_z_79yKEK",
        "colab": {
          "base_uri": "https://localhost:8080/"
        },
        "outputId": "12fd7c0a-d95b-4c26-b822-4e43c4d5c5b5"
      },
      "execution_count": 1,
      "outputs": [
        {
          "output_type": "stream",
          "name": "stdout",
          "text": [
            "Using device: cuda\n"
          ]
        }
      ]
    },
    {
      "cell_type": "markdown",
      "source": [
        "\n",
        "\n",
        "---\n",
        "\n"
      ],
      "metadata": {
        "id": "6iiOkre3ye0n"
      }
    },
    {
      "cell_type": "markdown",
      "source": [
        "**Task1: Inventory Management**\n",
        "\n",
        "AI Town’s warehouse uses sensors to record the inventory of 5 items every day. Each day’s data is represented as a list of integers (number of units)."
      ],
      "metadata": {
        "id": "iGT8uIK2nzxa"
      }
    },
    {
      "cell_type": "code",
      "source": [
        "#1 Create a PyTorch Tensor from the following inventory data\n",
        "inventory = [[12, 15, 10, 0, 5],\n",
        "             [10, 8, 7, 5, 4],\n",
        "             [20, 10, 15, 5, 2]]\n",
        "\n",
        "inventory_tensor = torch.tensor(inventory)\n",
        "print(inventory_tensor)"
      ],
      "metadata": {
        "id": "yQj9yyF-pADV",
        "colab": {
          "base_uri": "https://localhost:8080/"
        },
        "outputId": "859a4377-3456-4db4-d2d1-5f8442518413"
      },
      "execution_count": 2,
      "outputs": [
        {
          "output_type": "stream",
          "name": "stdout",
          "text": [
            "tensor([[12, 15, 10,  0,  5],\n",
            "        [10,  8,  7,  5,  4],\n",
            "        [20, 10, 15,  5,  2]])\n"
          ]
        }
      ]
    },
    {
      "cell_type": "code",
      "source": [
        "#2 Find the total inventory for each item across all days\n",
        "total_inventory = inventory_tensor.sum(dim=0) # sum across rows\n",
        "print(total_inventory)"
      ],
      "metadata": {
        "id": "piee_hPCo-VW",
        "colab": {
          "base_uri": "https://localhost:8080/"
        },
        "outputId": "634c6e81-916f-4aec-fbf6-944e6e116c11"
      },
      "execution_count": 3,
      "outputs": [
        {
          "output_type": "stream",
          "name": "stdout",
          "text": [
            "tensor([42, 33, 32, 10, 11])\n"
          ]
        }
      ]
    },
    {
      "cell_type": "code",
      "execution_count": 4,
      "metadata": {
        "id": "O-0F3R8uObWT",
        "colab": {
          "base_uri": "https://localhost:8080/"
        },
        "outputId": "10784bb1-19f6-4551-aff8-83fd4eda3778"
      },
      "outputs": [
        {
          "output_type": "stream",
          "name": "stdout",
          "text": [
            "tensor([ 8.4000,  6.8000, 10.4000])\n"
          ]
        }
      ],
      "source": [
        "#3 Find the average inventory per day\n",
        "'''mean() function in PyTorch requires the tensor to be a floating-point type (e.g., float32 or float64)\n",
        "'''\n",
        "average_inventory = inventory_tensor.float().mean(dim=1) # mean across columns\n",
        "print(average_inventory)"
      ]
    },
    {
      "cell_type": "markdown",
      "source": [
        "OR"
      ],
      "metadata": {
        "id": "UHS0U9Ns3bv4"
      }
    },
    {
      "cell_type": "code",
      "source": [
        "average_inventory = inventory_tensor.mean(dim=1, dtype=torch.float32) # mean across columns\n",
        "print(average_inventory)"
      ],
      "metadata": {
        "colab": {
          "base_uri": "https://localhost:8080/"
        },
        "id": "0qbJ2MyL3lET",
        "outputId": "a4060386-bc74-4f8e-da15-90ed51b39e8f"
      },
      "execution_count": 5,
      "outputs": [
        {
          "output_type": "stream",
          "name": "stdout",
          "text": [
            "tensor([ 8.4000,  6.8000, 10.4000])\n"
          ]
        }
      ]
    },
    {
      "cell_type": "markdown",
      "source": [
        "**KEY INSIGHTS**\n",
        "\n",
        "* dim=0 means summing across rows (column-wise), while dim=1 sums across columns (row-wise).\n",
        "* Tensor operations are efficient and avoid explicit loops."
      ],
      "metadata": {
        "id": "ybAxCd7S5lAQ"
      }
    },
    {
      "cell_type": "markdown",
      "source": [
        "\n",
        "\n",
        "---\n",
        "\n"
      ],
      "metadata": {
        "id": "4eWH3-JBycim"
      }
    },
    {
      "cell_type": "markdown",
      "source": [
        "**Task2: Monitoring Vehicle Flow**\n",
        "\n",
        "AI Town uses a sensor to monitor the number of vehicles passing through two main roads every hour. The data for one day (24 hours) is represented as two\n",
        "1×24 tensors."
      ],
      "metadata": {
        "id": "jqsNZz1VpDTB"
      }
    },
    {
      "cell_type": "code",
      "source": [
        "#1 Simulate this data using PyTorch's Random Functions\n",
        "road1 = torch.randint(50, 200, (24,))\n",
        "road2 = torch.randint(50, 200, (24,))\n",
        "print(road1)\n",
        "print(road2)"
      ],
      "metadata": {
        "id": "v0N1_20upZV0",
        "colab": {
          "base_uri": "https://localhost:8080/"
        },
        "outputId": "2d410335-408f-460e-dfd8-d62436394aa9"
      },
      "execution_count": 6,
      "outputs": [
        {
          "output_type": "stream",
          "name": "stdout",
          "text": [
            "tensor([152,  65, 157, 102, 196, 107,  96, 141,  99, 153,  58, 178, 155,  88,\n",
            "         67,  50, 164,  93,  65, 119, 165, 107, 133,  58])\n",
            "tensor([ 69, 150, 191,  83,  99,  75, 163, 197, 116, 129, 141, 109, 184,  61,\n",
            "        171, 158, 127, 131,  85,  82, 186, 185, 117, 111])\n"
          ]
        }
      ]
    },
    {
      "cell_type": "code",
      "source": [
        "#2 Write the function to calculate the total vehicle flow for each road across the entire day\n",
        "total_flow_road1 = road1.sum() # total for road1\n",
        "total_flow_road2 = road2.sum() # total for road2\n",
        "print(total_flow_road1)\n",
        "print(total_flow_road2)"
      ],
      "metadata": {
        "id": "o2ldiyONpkp_",
        "colab": {
          "base_uri": "https://localhost:8080/"
        },
        "outputId": "d33a3f6b-b354-42a8-e7f6-eee5d1ab5316"
      },
      "execution_count": 7,
      "outputs": [
        {
          "output_type": "stream",
          "name": "stdout",
          "text": [
            "tensor(2768)\n",
            "tensor(3120)\n"
          ]
        }
      ]
    },
    {
      "cell_type": "code",
      "source": [
        "#3 Write the function to calculate the total vehicle flow for each hour across both roads\n",
        "total_flow_hourly  = road1 + road2\n",
        "print()\n"
      ],
      "metadata": {
        "id": "PP1ukEgXpvl_",
        "colab": {
          "base_uri": "https://localhost:8080/"
        },
        "outputId": "0de484dc-a949-4fc4-bf83-c95fcffa5633"
      },
      "execution_count": 8,
      "outputs": [
        {
          "output_type": "stream",
          "name": "stdout",
          "text": [
            "\n"
          ]
        }
      ]
    },
    {
      "cell_type": "markdown",
      "source": [
        "**KEY INSIGHTS**\n",
        "\n",
        "* Use torch.randint() for simulating random data in a specific range.\n",
        "* Element-wise addition works seamlessly on tensors of the same shape.\n",
        "\n",
        "---\n",
        "\n"
      ],
      "metadata": {
        "id": "wkp5wRVHygcH"
      }
    },
    {
      "cell_type": "markdown",
      "source": [
        "**Task3: Fitness Matrix**\n",
        "\n",
        "The AI Gym tracks members’ fitness scores using a 3×3 matrix for *strength*, *stamina*, and f*lexibility*. Each row represents a different member, and each column represents a specific metric."
      ],
      "metadata": {
        "id": "9_03v1baqBBB"
      }
    },
    {
      "cell_type": "code",
      "source": [
        "#1 Create a 3*3 tensor matrix and multiply the scores of each member by a weight factor: [0.8, 1.2, 1.5]\n",
        "fitness = torch.tensor([[10, 20, 30],\n",
        "                        [40, 50, 60],\n",
        "                        [70, 80, 90]])\n",
        "weights = torch.tensor([0.8, 1.2, 1.5])\n",
        "weighted_fitness = weights * fitness\n",
        "print(weighted_fitness)"
      ],
      "metadata": {
        "id": "GlQTZKI6rZ5X",
        "colab": {
          "base_uri": "https://localhost:8080/"
        },
        "outputId": "f4c4a57c-c841-4f5b-fce9-e84ce22f180e"
      },
      "execution_count": 9,
      "outputs": [
        {
          "output_type": "stream",
          "name": "stdout",
          "text": [
            "tensor([[  8.0000,  24.0000,  45.0000],\n",
            "        [ 32.0000,  60.0000,  90.0000],\n",
            "        [ 56.0000,  96.0000, 135.0000]])\n"
          ]
        }
      ]
    },
    {
      "cell_type": "code",
      "source": [
        "#2 Find the row-wise and column-wise maximum scores\n",
        "row_max = weighted_fitness.max(dim=1) # max for each row\n",
        "col_max = weighted_fitness.max(dim=0) # max for each column\n",
        "print(row_max)\n",
        "print(col_max)"
      ],
      "metadata": {
        "id": "_uce_-rXr1un",
        "colab": {
          "base_uri": "https://localhost:8080/"
        },
        "outputId": "9700ab99-395a-46ea-d16d-f85fc8b20b38"
      },
      "execution_count": 10,
      "outputs": [
        {
          "output_type": "stream",
          "name": "stdout",
          "text": [
            "torch.return_types.max(\n",
            "values=tensor([ 45.,  90., 135.]),\n",
            "indices=tensor([2, 2, 2]))\n",
            "torch.return_types.max(\n",
            "values=tensor([ 56.,  96., 135.]),\n",
            "indices=tensor([2, 2, 2]))\n"
          ]
        }
      ]
    },
    {
      "cell_type": "code",
      "source": [
        "#3 Transpose the fitness matrix and interpret it's new structure (shape)\n",
        "transposed_fitness = fitness.t()\n",
        "print(transposed_fitness)\n"
      ],
      "metadata": {
        "id": "WIapNxZ6r4Dn",
        "colab": {
          "base_uri": "https://localhost:8080/"
        },
        "outputId": "b21018f4-0e67-42c6-b0c3-1074606d048c"
      },
      "execution_count": 11,
      "outputs": [
        {
          "output_type": "stream",
          "name": "stdout",
          "text": [
            "tensor([[10, 40, 70],\n",
            "        [20, 50, 80],\n",
            "        [30, 60, 90]])\n"
          ]
        }
      ]
    },
    {
      "cell_type": "markdown",
      "source": [
        "**KEY INSIGHTS**\n",
        "\n",
        "Learn [Broadcasting](https://pytorch.org/docs/stable/notes/broadcasting.html) and do changes in 'weighted fitness', the output will remain the same"
      ],
      "metadata": {
        "id": "PccixyJg-T5I"
      }
    },
    {
      "cell_type": "markdown",
      "source": [
        "\n",
        "\n",
        "---\n",
        "\n"
      ],
      "metadata": {
        "id": "LlDlQS0Vyh8W"
      }
    },
    {
      "cell_type": "markdown",
      "source": [
        "**Task4: Chain Rule in Action**\n",
        "\n",
        "AI Lab is running experiments to understand the effect of temperature (\n",
        "x) on a chemical reaction rate (y). The relationship is given as:\n",
        "$y = 2x^3 + 5x^2 - 3x + 7$\n",
        "\n"
      ],
      "metadata": {
        "id": "03ROjCDosA1-"
      }
    },
    {
      "cell_type": "code",
      "source": [
        "#1 Use PyTorch to compute 'y' for x = 4\n",
        "\n",
        "# let's define x first\n",
        "x = torch.tensor(4.0, requires_grad=True)\n",
        "\n",
        "# now define y\n",
        "y = 2*x**3 + 5*x**2 - 3*x + 7\n",
        "\n",
        "print(y)\n"
      ],
      "metadata": {
        "id": "3A33YR0QvHjn",
        "colab": {
          "base_uri": "https://localhost:8080/"
        },
        "outputId": "4bd88a44-4c38-4ebd-9700-a85cc4bb91b7"
      },
      "execution_count": 12,
      "outputs": [
        {
          "output_type": "stream",
          "name": "stdout",
          "text": [
            "tensor(203., grad_fn=<AddBackward0>)\n"
          ]
        }
      ]
    },
    {
      "cell_type": "code",
      "source": [
        "#2 Calculate dy/dx (gradient) using PyTorch's autograd\n",
        "y.backward(retain_graph = True)\n",
        "gradient = x.grad\n",
        "\n",
        "print(gradient)"
      ],
      "metadata": {
        "colab": {
          "base_uri": "https://localhost:8080/"
        },
        "id": "CJRlzdjJ_hZ_",
        "outputId": "6836bdc8-cfc8-4188-8984-6d9c4676d26d"
      },
      "execution_count": 13,
      "outputs": [
        {
          "output_type": "stream",
          "name": "stdout",
          "text": [
            "tensor(133.)\n"
          ]
        }
      ]
    },
    {
      "cell_type": "markdown",
      "source": [
        "**KEY INSIGHTS**\n",
        "\n",
        "* If you need to call .backward() on the same graph multiple times, you need to specify retain_graph=True when calling .backward()\n",
        "* *WHY*? because in PyTorch, the computational graph used for the operation is freed by default to save memory"
      ],
      "metadata": {
        "id": "i2gocgOp_tXu"
      }
    },
    {
      "cell_type": "markdown",
      "source": [
        "\n",
        "\n",
        "---\n",
        "\n"
      ],
      "metadata": {
        "id": "cWs5gdmiylYe"
      }
    },
    {
      "cell_type": "markdown",
      "source": [
        "**Task5: Camera Calibration**\n",
        "\n",
        "AI Town’s surveillance cameras need to align their focus. You are given the following matrices for two cameras’ focus adjustments:"
      ],
      "metadata": {
        "id": "12iKFr_NwC7d"
      }
    },
    {
      "cell_type": "code",
      "source": [
        "camera1 = torch.tensor([[1, 2], [3, 4]])\n",
        "camera2 = torch.tensor([[5, 6], [7, 8]])"
      ],
      "metadata": {
        "id": "3syFy2GlwLRZ"
      },
      "execution_count": 14,
      "outputs": []
    },
    {
      "cell_type": "code",
      "source": [
        "#1 Perform an element-wise multiplication of matrices ( Hadamard Product)\n",
        "elementwise_product = camera1 * camera2\n",
        "print(elementwise_product)"
      ],
      "metadata": {
        "id": "xJH8T-85wO_B",
        "colab": {
          "base_uri": "https://localhost:8080/"
        },
        "outputId": "ae518bad-31e6-4232-cb39-8daebd7f1411"
      },
      "execution_count": 15,
      "outputs": [
        {
          "output_type": "stream",
          "name": "stdout",
          "text": [
            "tensor([[ 5, 12],\n",
            "        [21, 32]])\n"
          ]
        }
      ]
    },
    {
      "cell_type": "code",
      "source": [
        "#2 Compute Dot Product of the two matrices\n",
        "dot_product = torch.matmul(camera1, camera2)\n",
        "print(dot_product)"
      ],
      "metadata": {
        "id": "yL5otP3FwZY8",
        "colab": {
          "base_uri": "https://localhost:8080/"
        },
        "outputId": "70dcf26e-5c83-468f-9bad-ba50bcaf704c"
      },
      "execution_count": 16,
      "outputs": [
        {
          "output_type": "stream",
          "name": "stdout",
          "text": [
            "tensor([[19, 22],\n",
            "        [43, 50]])\n"
          ]
        }
      ]
    },
    {
      "cell_type": "code",
      "source": [
        "#3 Compute the Determinant of each matrix\n",
        "det_camera1 = torch.det(camera1.float())\n",
        "det_camera2 = torch.det(camera2.float())\n",
        "print(det_camera1)\n",
        "print(det_camera2)"
      ],
      "metadata": {
        "id": "97dWTkQzxBaH",
        "colab": {
          "base_uri": "https://localhost:8080/"
        },
        "outputId": "e0acfa2c-fee2-4a53-a25e-86b79cb23897"
      },
      "execution_count": 17,
      "outputs": [
        {
          "output_type": "stream",
          "name": "stdout",
          "text": [
            "tensor(-2.)\n",
            "tensor(-2.0000)\n"
          ]
        }
      ]
    },
    {
      "cell_type": "markdown",
      "source": [
        "**KEY INSIGHTS**:\n",
        "\n",
        "* Use **torch.matmul()** for matrix multiplication and \"*\" for element-wise multiplication.\n",
        "* Determinants work only on square matrices."
      ],
      "metadata": {
        "id": "2If1xLjhBFBY"
      }
    },
    {
      "cell_type": "markdown",
      "source": [
        "\n",
        "\n",
        "---\n",
        "\n"
      ],
      "metadata": {
        "id": "dtQXmntaym2T"
      }
    },
    {
      "cell_type": "markdown",
      "source": [
        "**Task6: Neural Network Foundations**\n",
        "\n",
        "Our AI University uses simplified single neuron model (perceptron):\n",
        "$$y = wx + b$$"
      ],
      "metadata": {
        "id": "tA6tObX4xFLE"
      }
    },
    {
      "cell_type": "code",
      "source": [
        "#1 Create tensors for w  = 2, b = 1, x = [1, 2, 3, 4]\n",
        "w = torch.tensor(2.0, requires_grad=True)\n",
        "b = torch.tensor(1.0, requires_grad=True)\n",
        "\n",
        "x = torch.tensor([1, 2, 3, 4])\n",
        "print(w)\n",
        "print(b)\n",
        "print(x)"
      ],
      "metadata": {
        "id": "CAynFZXZxf53",
        "colab": {
          "base_uri": "https://localhost:8080/"
        },
        "outputId": "2ac23951-298d-4356-f5ca-6255b93e7272"
      },
      "execution_count": 18,
      "outputs": [
        {
          "output_type": "stream",
          "name": "stdout",
          "text": [
            "tensor(2., requires_grad=True)\n",
            "tensor(1., requires_grad=True)\n",
            "tensor([1, 2, 3, 4])\n"
          ]
        }
      ]
    },
    {
      "cell_type": "code",
      "source": [
        "#2 Compute tensors for y\n",
        "y = w * x + b\n",
        "print(y)"
      ],
      "metadata": {
        "id": "sAtHYFNDxqy-",
        "colab": {
          "base_uri": "https://localhost:8080/"
        },
        "outputId": "1e43aed0-67b2-4adc-eb03-df1ec9449c11"
      },
      "execution_count": 19,
      "outputs": [
        {
          "output_type": "stream",
          "name": "stdout",
          "text": [
            "tensor([3., 5., 7., 9.], grad_fn=<AddBackward0>)\n"
          ]
        }
      ]
    },
    {
      "cell_type": "markdown",
      "source": [
        "PyTorch tracks gradients for all **requires_grad=True** tensors."
      ],
      "metadata": {
        "id": "QBIWS6CQCFOS"
      }
    },
    {
      "cell_type": "markdown",
      "source": [
        "\n",
        "\n",
        "---\n",
        "\n"
      ],
      "metadata": {
        "id": "3PLDt7oKyoI6"
      }
    }
  ]
}