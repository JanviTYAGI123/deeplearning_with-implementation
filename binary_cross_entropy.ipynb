{
 "cells": [
  {
   "cell_type": "markdown",
   "id": "503bf60b",
   "metadata": {},
   "source": [
    "<h2 align=\"center\">Codebasics DL Course: Binary Cross Entropy</h2>"
   ]
  },
  {
   "cell_type": "code",
   "execution_count": 2,
   "id": "a1021c35",
   "metadata": {},
   "outputs": [],
   "source": [
    "import torch\n",
    "import torch.nn as nn"
   ]
  },
  {
   "cell_type": "code",
   "execution_count": 7,
   "id": "0336ef81",
   "metadata": {},
   "outputs": [
    {
     "name": "stdout",
     "output_type": "stream",
     "text": [
      "MSE Loss:  0.81\n"
     ]
    }
   ],
   "source": [
    "criterion = nn.MSELoss()\n",
    "\n",
    "y_pred = torch.tensor([0.9])\n",
    "y_true = torch.tensor([0], dtype=torch.float)\n",
    "\n",
    "loss = criterion(y_pred, y_true)\n",
    "print(f\"MSE Loss: {loss.item(): 0.2f}\")"
   ]
  },
  {
   "cell_type": "code",
   "execution_count": 11,
   "id": "422c1db1",
   "metadata": {},
   "outputs": [
    {
     "name": "stdout",
     "output_type": "stream",
     "text": [
      "Binary Cross Entropy Loss:  0.11\n"
     ]
    }
   ],
   "source": [
    "criterion = nn.BCELoss() # Binary Cross Entropy Loss\n",
    "\n",
    "y_pred = torch.tensor([0.1])\n",
    "y_true = torch.tensor([0], dtype=torch.float)\n",
    "\n",
    "loss = criterion(y_pred, y_true)\n",
    "print(f\"Binary Cross Entropy Loss: {loss.item(): 0.2f}\")"
   ]
  },
  {
   "cell_type": "code",
   "execution_count": 14,
   "id": "8d607a4e",
   "metadata": {},
   "outputs": [
    {
     "name": "stdout",
     "output_type": "stream",
     "text": [
      "Binary Cross Entropy Loss:  0.54\n"
     ]
    }
   ],
   "source": [
    "criterion = nn.BCELoss() # Binary Cross Entropy Loss\n",
    "\n",
    "y_pred = torch.tensor([0.8, 0.2, 0.8, 0.9])\n",
    "y_true = torch.tensor([1, 0, 0, 1], dtype=torch.float)\n",
    "\n",
    "loss = criterion(y_pred, y_true)\n",
    "print(f\"Binary Cross Entropy Loss: {loss.item(): 0.2f}\")"
   ]
  }
 ],
 "metadata": {
  "kernelspec": {
   "display_name": "Python 3 (ipykernel)",
   "language": "python",
   "name": "python3"
  },
  "language_info": {
   "codemirror_mode": {
    "name": "ipython",
    "version": 3
   },
   "file_extension": ".py",
   "mimetype": "text/x-python",
   "name": "python",
   "nbconvert_exporter": "python",
   "pygments_lexer": "ipython3",
   "version": "3.10.11"
  }
 },
 "nbformat": 4,
 "nbformat_minor": 5
}
