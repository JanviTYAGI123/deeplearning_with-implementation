{
  "cells": [
    {
      "cell_type": "markdown",
      "id": "126a8a92",
      "metadata": {
        "id": "126a8a92"
      },
      "source": [
        "<h2 align=\"center\">Codebasics DL Course: PyTorch Datasets and DataLoaders</h2>"
      ]
    },
    {
      "cell_type": "code",
      "execution_count": null,
      "id": "2fb68741",
      "metadata": {
        "id": "2fb68741"
      },
      "outputs": [],
      "source": [
        "import torch\n",
        "from torchvision import datasets\n",
        "from torchvision.transforms import ToTensor\n",
        "import matplotlib.pyplot as plt"
      ]
    },
    {
      "cell_type": "markdown",
      "id": "d9adc885",
      "metadata": {
        "id": "d9adc885"
      },
      "source": [
        "## 1. Datasets"
      ]
    },
    {
      "cell_type": "code",
      "execution_count": null,
      "id": "a015821a",
      "metadata": {
        "scrolled": false,
        "id": "a015821a",
        "outputId": "2a68ebac-704b-496a-e22f-551da84473a1"
      },
      "outputs": [
        {
          "name": "stdout",
          "output_type": "stream",
          "text": [
            "Downloading http://fashion-mnist.s3-website.eu-central-1.amazonaws.com/train-images-idx3-ubyte.gz\n",
            "Downloading http://fashion-mnist.s3-website.eu-central-1.amazonaws.com/train-images-idx3-ubyte.gz to data\\FashionMNIST\\raw\\train-images-idx3-ubyte.gz\n"
          ]
        },
        {
          "name": "stderr",
          "output_type": "stream",
          "text": [
            "100%|██████████| 26421880/26421880 [00:01<00:00, 14911013.64it/s]\n"
          ]
        },
        {
          "name": "stdout",
          "output_type": "stream",
          "text": [
            "Extracting data\\FashionMNIST\\raw\\train-images-idx3-ubyte.gz to data\\FashionMNIST\\raw\n",
            "\n",
            "Downloading http://fashion-mnist.s3-website.eu-central-1.amazonaws.com/train-labels-idx1-ubyte.gz\n",
            "Downloading http://fashion-mnist.s3-website.eu-central-1.amazonaws.com/train-labels-idx1-ubyte.gz to data\\FashionMNIST\\raw\\train-labels-idx1-ubyte.gz\n"
          ]
        },
        {
          "name": "stderr",
          "output_type": "stream",
          "text": [
            "100%|██████████| 29515/29515 [00:00<00:00, 320004.97it/s]\n"
          ]
        },
        {
          "name": "stdout",
          "output_type": "stream",
          "text": [
            "Extracting data\\FashionMNIST\\raw\\train-labels-idx1-ubyte.gz to data\\FashionMNIST\\raw\n",
            "\n",
            "Downloading http://fashion-mnist.s3-website.eu-central-1.amazonaws.com/t10k-images-idx3-ubyte.gz\n",
            "Downloading http://fashion-mnist.s3-website.eu-central-1.amazonaws.com/t10k-images-idx3-ubyte.gz to data\\FashionMNIST\\raw\\t10k-images-idx3-ubyte.gz\n"
          ]
        },
        {
          "name": "stderr",
          "output_type": "stream",
          "text": [
            "100%|██████████| 4422102/4422102 [00:00<00:00, 5547054.01it/s]\n"
          ]
        },
        {
          "name": "stdout",
          "output_type": "stream",
          "text": [
            "Extracting data\\FashionMNIST\\raw\\t10k-images-idx3-ubyte.gz to data\\FashionMNIST\\raw\n",
            "\n",
            "Downloading http://fashion-mnist.s3-website.eu-central-1.amazonaws.com/t10k-labels-idx1-ubyte.gz\n",
            "Downloading http://fashion-mnist.s3-website.eu-central-1.amazonaws.com/t10k-labels-idx1-ubyte.gz to data\\FashionMNIST\\raw\\t10k-labels-idx1-ubyte.gz\n"
          ]
        },
        {
          "name": "stderr",
          "output_type": "stream",
          "text": [
            "100%|██████████| 5148/5148 [00:00<00:00, 5266409.02it/s]"
          ]
        },
        {
          "name": "stdout",
          "output_type": "stream",
          "text": [
            "Extracting data\\FashionMNIST\\raw\\t10k-labels-idx1-ubyte.gz to data\\FashionMNIST\\raw\n",
            "\n"
          ]
        },
        {
          "name": "stderr",
          "output_type": "stream",
          "text": [
            "\n"
          ]
        }
      ],
      "source": [
        "training_data = datasets.FashionMNIST(\n",
        "    root=\"data\",\n",
        "    train=True,\n",
        "    download=True,\n",
        "    transform=ToTensor()\n",
        ")"
      ]
    },
    {
      "cell_type": "code",
      "execution_count": null,
      "id": "1f37bfde",
      "metadata": {
        "id": "1f37bfde",
        "outputId": "7ef30a7e-915c-497a-8931-099d042c2fd3"
      },
      "outputs": [
        {
          "data": {
            "text/plain": [
              "60000"
            ]
          },
          "execution_count": 4,
          "metadata": {},
          "output_type": "execute_result"
        }
      ],
      "source": [
        "len(training_data)"
      ]
    },
    {
      "cell_type": "code",
      "execution_count": null,
      "id": "179e934a",
      "metadata": {
        "id": "179e934a"
      },
      "outputs": [],
      "source": [
        "test_data = datasets.FashionMNIST(\n",
        "    root=\"data\",\n",
        "    train=False,\n",
        "    download=True,\n",
        "    transform=ToTensor()\n",
        ")"
      ]
    },
    {
      "cell_type": "code",
      "execution_count": null,
      "id": "b068e90d",
      "metadata": {
        "id": "b068e90d",
        "outputId": "7be4e858-44d0-4e8d-e433-09c2803df8cc"
      },
      "outputs": [
        {
          "data": {
            "text/plain": [
              "10000"
            ]
          },
          "execution_count": 6,
          "metadata": {},
          "output_type": "execute_result"
        }
      ],
      "source": [
        "len(test_data)"
      ]
    },
    {
      "cell_type": "code",
      "execution_count": null,
      "id": "fc608c3d",
      "metadata": {
        "scrolled": false,
        "id": "fc608c3d"
      },
      "outputs": [],
      "source": [
        "image, label = training_data[0]"
      ]
    },
    {
      "cell_type": "code",
      "execution_count": null,
      "id": "9bd33275",
      "metadata": {
        "scrolled": false,
        "id": "9bd33275",
        "outputId": "977f962e-2bdc-41cf-c0c4-c341fa5690a6"
      },
      "outputs": [
        {
          "data": {
            "text/plain": [
              "torch.Size([1, 28, 28])"
            ]
          },
          "execution_count": 13,
          "metadata": {},
          "output_type": "execute_result"
        }
      ],
      "source": [
        "image.shape"
      ]
    },
    {
      "cell_type": "code",
      "execution_count": null,
      "id": "792313b4",
      "metadata": {
        "id": "792313b4",
        "outputId": "05d16266-e395-4d06-aac4-cc8c63557a86"
      },
      "outputs": [
        {
          "data": {
            "text/plain": [
              "9"
            ]
          },
          "execution_count": 14,
          "metadata": {},
          "output_type": "execute_result"
        }
      ],
      "source": [
        "label"
      ]
    },
    {
      "cell_type": "code",
      "execution_count": null,
      "id": "8319a091",
      "metadata": {
        "id": "8319a091",
        "outputId": "08bbd449-7cbc-4ba1-9f3c-ee6e064c7612"
      },
      "outputs": [
        {
          "data": {
            "text/plain": [
              "torch.Size([28, 28])"
            ]
          },
          "execution_count": 16,
          "metadata": {},
          "output_type": "execute_result"
        }
      ],
      "source": [
        "image.squeeze().shape"
      ]
    },
    {
      "cell_type": "code",
      "execution_count": null,
      "id": "42bcbec4",
      "metadata": {
        "id": "42bcbec4",
        "outputId": "4a9b18e1-be8f-4ec0-ac25-b468518eaaee"
      },
      "outputs": [
        {
          "data": {
            "text/plain": [
              "<matplotlib.image.AxesImage at 0x12615e6faf0>"
            ]
          },
          "execution_count": 19,
          "metadata": {},
          "output_type": "execute_result"
        },
        {
          "data": {
            "image/png": "[encoded data removed]",
            "text/plain": [
              "<Figure size 200x200 with 1 Axes>"
            ]
          },
          "metadata": {},
          "output_type": "display_data"
        }
      ],
      "source": [
        "plt.figure(figsize=(2,2))\n",
        "plt.imshow(image.squeeze(), cmap=\"gray\")"
      ]
    },
    {
      "cell_type": "code",
      "execution_count": null,
      "id": "e4fa19cf",
      "metadata": {
        "id": "e4fa19cf",
        "outputId": "a431a997-e453-4899-f379-0126e26a0a0d"
      },
      "outputs": [
        {
          "data": {
            "text/plain": [
              "'Ankle Boot'"
            ]
          },
          "execution_count": 20,
          "metadata": {},
          "output_type": "execute_result"
        }
      ],
      "source": [
        "labels_map = {\n",
        "    0: \"T-Shirt\",\n",
        "    1: \"Trouser\",\n",
        "    2: \"Pullover\",\n",
        "    3: \"Dress\",\n",
        "    4: \"Coat\",\n",
        "    5: \"Sandal\",\n",
        "    6: \"Shirt\",\n",
        "    7: \"Sneaker\",\n",
        "    8: \"Bag\",\n",
        "    9: \"Ankle Boot\",\n",
        "}\n",
        "\n",
        "labels_map[label]"
      ]
    },
    {
      "cell_type": "code",
      "execution_count": null,
      "id": "4f819f5f",
      "metadata": {
        "id": "4f819f5f",
        "outputId": "52607028-66e1-487f-cbfc-5e4907f76161"
      },
      "outputs": [
        {
          "data": {
            "image/png": "[encoded data removed]",
            "text/plain": [
              "<Figure size 800x800 with 9 Axes>"
            ]
          },
          "metadata": {},
          "output_type": "display_data"
        }
      ],
      "source": [
        "figure = plt.figure(figsize=(8, 8))\n",
        "cols, rows = 3, 3\n",
        "for i in range(1, cols * rows + 1):\n",
        "    sample_idx = torch.randint(len(training_data), size=(1,)).item()\n",
        "    img, label = training_data[sample_idx]\n",
        "    figure.add_subplot(rows, cols, i)\n",
        "    plt.title(labels_map[label])\n",
        "    plt.axis(\"off\")\n",
        "    plt.imshow(img.squeeze(), cmap=\"gray\")\n",
        "plt.show()"
      ]
    },
    {
      "cell_type": "markdown",
      "id": "b0ee31f9",
      "metadata": {
        "id": "b0ee31f9"
      },
      "source": [
        "## 2. DataLoaders"
      ]
    },
    {
      "cell_type": "code",
      "execution_count": null,
      "id": "9c4d1d62",
      "metadata": {
        "id": "9c4d1d62"
      },
      "outputs": [],
      "source": [
        "from torch.utils.data import DataLoader\n",
        "\n",
        "train_dataloader = DataLoader(training_data, batch_size=64, shuffle=True)\n",
        "test_dataloader = DataLoader(test_data, batch_size=64, shuffle=True)"
      ]
    },
    {
      "cell_type": "code",
      "execution_count": null,
      "id": "655eee22",
      "metadata": {
        "id": "655eee22",
        "outputId": "c06e4bbd-47c6-4e8b-8a2c-7248471bda97"
      },
      "outputs": [
        {
          "name": "stdout",
          "output_type": "stream",
          "text": [
            "torch.Size([64, 1, 28, 28])\n"
          ]
        }
      ],
      "source": [
        "for images, labels in train_dataloader:\n",
        "    print(images.size())\n",
        "    break"
      ]
    },
    {
      "cell_type": "code",
      "execution_count": null,
      "id": "253517e2",
      "metadata": {
        "id": "253517e2"
      },
      "outputs": [],
      "source": [
        "data_iter = iter(train_dataloader)\n",
        "images, labels = next(data_iter)"
      ]
    },
    {
      "cell_type": "code",
      "execution_count": null,
      "id": "d53b2afc",
      "metadata": {
        "id": "d53b2afc",
        "outputId": "712eb075-f48d-4abd-b03b-e50bcdea5c36"
      },
      "outputs": [
        {
          "data": {
            "text/plain": [
              "torch.Size([64, 1, 28, 28])"
            ]
          },
          "execution_count": 25,
          "metadata": {},
          "output_type": "execute_result"
        }
      ],
      "source": [
        "images.size()"
      ]
    },
    {
      "cell_type": "code",
      "execution_count": null,
      "id": "5ec6ce09",
      "metadata": {
        "id": "5ec6ce09"
      },
      "outputs": [],
      "source": [
        "img = images[2].squeeze()\n",
        "label = labels[2]"
      ]
    },
    {
      "cell_type": "code",
      "execution_count": null,
      "id": "8232484e",
      "metadata": {
        "id": "8232484e",
        "outputId": "46554f71-e25a-43f2-bc77-ed73f27666e0"
      },
      "outputs": [
        {
          "data": {
            "text/plain": [
              "8"
            ]
          },
          "execution_count": 36,
          "metadata": {},
          "output_type": "execute_result"
        }
      ],
      "source": [
        "label.item()"
      ]
    },
    {
      "cell_type": "code",
      "execution_count": null,
      "id": "0d940710",
      "metadata": {
        "id": "0d940710",
        "outputId": "4024520f-17a7-4c8e-a791-53bb9cba3e06"
      },
      "outputs": [
        {
          "data": {
            "text/plain": [
              "'Bag'"
            ]
          },
          "execution_count": 37,
          "metadata": {},
          "output_type": "execute_result"
        }
      ],
      "source": [
        "labels_map[label.item()]"
      ]
    },
    {
      "cell_type": "code",
      "execution_count": null,
      "id": "77be772f",
      "metadata": {
        "id": "77be772f",
        "outputId": "05d4aa97-a6ee-4d26-a404-dd91edadb533"
      },
      "outputs": [
        {
          "data": {
            "image/png": "[encoded data removed]",
            "text/plain": [
              "<Figure size 200x200 with 1 Axes>"
            ]
          },
          "metadata": {},
          "output_type": "display_data"
        }
      ],
      "source": [
        "plt.figure(figsize=(2,2))\n",
        "plt.imshow(img, cmap=\"gray\")\n",
        "plt.show()"
      ]
    }
  ],
  "metadata": {
    "kernelspec": {
      "display_name": "Python 3 (ipykernel)",
      "language": "python",
      "name": "python3"
    },
    "language_info": {
      "codemirror_mode": {
        "name": "ipython",
        "version": 3
      },
      "file_extension": ".py",
      "mimetype": "text/x-python",
      "name": "python",
      "nbconvert_exporter": "python",
      "pygments_lexer": "ipython3",
      "version": "3.10.11"
    },
    "colab": {
      "provenance": []
    }
  },
  "nbformat": 4,
  "nbformat_minor": 5
}