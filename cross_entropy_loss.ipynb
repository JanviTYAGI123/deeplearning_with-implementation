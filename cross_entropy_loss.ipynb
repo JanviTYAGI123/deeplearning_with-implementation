{
 "cells": [
  {
   "cell_type": "code",
   "execution_count": 1,
   "id": "9177e0be",
   "metadata": {},
   "outputs": [],
   "source": [
    "import torch\n",
    "import torch.nn as nn"
   ]
  },
  {
   "cell_type": "code",
   "execution_count": 5,
   "id": "c250ecb1",
   "metadata": {},
   "outputs": [
    {
     "name": "stdout",
     "output_type": "stream",
     "text": [
      "Cross Entropy Loss:  0.77\n"
     ]
    }
   ],
   "source": [
    "loss_func = nn.CrossEntropyLoss()\n",
    "\n",
    "y_pred = torch.tensor([[0.1, 0.2, 0.7]]) # dog (0), cat (1), koala (2)\n",
    "y_true = torch.tensor([2])\n",
    "\n",
    "loss = loss_func(y_pred, y_true)\n",
    "print(f\"Cross Entropy Loss: {loss.item(): 0.2f}\")"
   ]
  },
  {
   "cell_type": "code",
   "execution_count": 6,
   "id": "df7173b3",
   "metadata": {},
   "outputs": [
    {
     "name": "stdout",
     "output_type": "stream",
     "text": [
      "Cross Entropy Loss:  1.37\n"
     ]
    }
   ],
   "source": [
    "loss_func = nn.CrossEntropyLoss()\n",
    "\n",
    "y_pred = torch.tensor([[0.7, 0.2, 0.1]])\n",
    "y_true = torch.tensor([2])\n",
    "\n",
    "loss = loss_func(y_pred, y_true)\n",
    "print(f\"Cross Entropy Loss: {loss.item(): 0.2f}\")"
   ]
  }
 ],
 "metadata": {
  "kernelspec": {
   "display_name": "Python 3 (ipykernel)",
   "language": "python",
   "name": "python3"
  },
  "language_info": {
   "codemirror_mode": {
    "name": "ipython",
    "version": 3
   },
   "file_extension": ".py",
   "mimetype": "text/x-python",
   "name": "python",
   "nbconvert_exporter": "python",
   "pygments_lexer": "ipython3",
   "version": "3.10.11"
  }
 },
 "nbformat": 4,
 "nbformat_minor": 5
}
